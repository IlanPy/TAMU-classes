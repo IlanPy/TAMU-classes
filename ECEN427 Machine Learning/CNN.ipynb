{
  "nbformat": 4,
  "nbformat_minor": 0,
  "metadata": {
    "colab": {
      "provenance": [],
      "gpuType": "T4"
    },
    "kernelspec": {
      "name": "python3",
      "display_name": "Python 3"
    },
    "language_info": {
      "name": "python"
    },
    "accelerator": "GPU"
  },
  "cells": [
    {
      "cell_type": "markdown",
      "source": [
        "**Load Dataset CIFAR-10**"
      ],
      "metadata": {
        "id": "BahY6qDuk2uo"
      }
    },
    {
      "cell_type": "code",
      "execution_count": null,
      "metadata": {
        "id": "Vya5eQ9rkYDn",
        "colab": {
          "base_uri": "https://localhost:8080/"
        },
        "outputId": "14fda819-4fb2-4fd5-8f86-0ac525a4222e"
      },
      "outputs": [
        {
          "output_type": "stream",
          "name": "stdout",
          "text": [
            "Downloading https://www.cs.toronto.edu/~kriz/cifar-10-python.tar.gz to ./cifar-10-python.tar.gz\n"
          ]
        },
        {
          "output_type": "stream",
          "name": "stderr",
          "text": [
            "100%|██████████| 170M/170M [00:03<00:00, 43.3MB/s]\n"
          ]
        },
        {
          "output_type": "stream",
          "name": "stdout",
          "text": [
            "Extracting ./cifar-10-python.tar.gz to ./\n",
            "Files already downloaded and verified\n"
          ]
        }
      ],
      "source": [
        "import torch\n",
        "from torch.nn import functional as F\n",
        "\n",
        "import torchvision\n",
        "import torchvision.transforms as transforms\n",
        "\n",
        "transform = transforms.Compose([transforms.ToTensor(),\n",
        "                                transforms.Normalize((0.5,), (0.5,))\n",
        "                                ])\n",
        "\n",
        "train_data = torchvision.datasets.CIFAR10(root=\"./\",\n",
        "                                      download=True,\n",
        "                                      train=True,\n",
        "                                      transform=transform\n",
        "                                      )\n",
        "\n",
        "test_data = torchvision.datasets.CIFAR10(root=\"./\",\n",
        "                                     download=True,\n",
        "                                     train=False,\n",
        "                                     transform=transform\n",
        "                                     )"
      ]
    },
    {
      "cell_type": "markdown",
      "source": [
        "**Load Batches**"
      ],
      "metadata": {
        "id": "tZeI7CNfmkHz"
      }
    },
    {
      "cell_type": "code",
      "source": [
        "batch_size = 128 # Batch size\n",
        "\n",
        "train_loader = torch.utils.data.DataLoader(train_data,\n",
        "                                           batch_size=batch_size,\n",
        "                                           shuffle=True\n",
        "                                           )\n",
        "\n",
        "test_loader = torch.utils.data.DataLoader(test_data,\n",
        "                                          batch_size=batch_size,\n",
        "                                          shuffle=False\n",
        "                                          )"
      ],
      "metadata": {
        "id": "WXvYS4jAmoMc"
      },
      "execution_count": null,
      "outputs": []
    },
    {
      "cell_type": "markdown",
      "source": [
        "**Designing The Model**"
      ],
      "metadata": {
        "id": "TRiFLEvNpmei"
      }
    },
    {
      "cell_type": "code",
      "source": [
        "from torch import nn\n",
        "from collections import OrderedDict\n",
        "\n",
        "class CNN(nn.Module):\n",
        "\n",
        "    def __init__(self):\n",
        "        super().__init__()\n",
        "        self.layers = nn.Sequential(OrderedDict([\n",
        "            # Input: 32x32x3\n",
        "            [\"Convl1\",nn.Conv2d(3, 32, 3, 1, 1)], # Output: 32x32x32\n",
        "            [\"Relu1\", nn.ReLU()],\n",
        "            [\"Convl2\", nn.Conv2d(32, 64, 3, 1, 1)], # Output: 32x32x64\n",
        "            [\"Relu2\", nn.ReLU()],\n",
        "            [\"Pool1\", nn.MaxPool2d(2, 2)], # Output: 16x16x64\n",
        "            [\"drop1\",nn.Dropout(0.25)],\n",
        "\n",
        "            [\"Convl3\", nn.Conv2d(64, 128, 3, 1,1)], # Output: 16x16x128\n",
        "            [\"Relu3\", nn.ReLU()],\n",
        "            [\"Convl4\", nn.Conv2d(128, 256, 3, 1,1)], # Output: 32x32x256\n",
        "            [\"Relu4\", nn.ReLU()],\n",
        "            [\"Pool2\", nn.MaxPool2d(4)], # Output: 4x4x256\n",
        "            [\"drop2\",nn.Dropout(0.25)],\n",
        "\n",
        "            [\"flatten\",nn.Flatten()],\n",
        "            [\"lin1\",nn.Linear(4*4*256, 128)],\n",
        "            [\"Relu5\", nn.ReLU()],\n",
        "            [\"lin2\", nn.Linear(128, 10)],\n",
        "            [\"output\", nn.LogSoftmax(dim=1)]\n",
        "        ]))\n",
        "\n",
        "    def forward(self, x):\n",
        "        \"\"\"\"\"\"\n",
        "        return self.layers(x)"
      ],
      "metadata": {
        "id": "ZfX9xHCIprJw"
      },
      "execution_count": null,
      "outputs": []
    },
    {
      "cell_type": "code",
      "source": [
        "import matplotlib.pyplot as plt\n",
        "from tqdm import tqdm\n",
        "\n",
        "#optimizer utility function\n",
        "def train_model(model: torch.nn,\n",
        "                data_loader,\n",
        "                device,\n",
        "                eta: float =0.001,\n",
        "                epoch: int = 5,\n",
        "                loss_fn = nn.CrossEntropyLoss()):\n",
        "    \"\"\"\n",
        "    :param model: model definition\n",
        "    :type model: torch.nn\n",
        "    :param X: feature vector\n",
        "    :type X: torch.tensor\n",
        "    :param y: label vector\n",
        "    :type y: torch.tensor\n",
        "    :param eta: learning rate\n",
        "    :type eta: float\n",
        "    :param loss_fn: loss function\n",
        "    :type loss_fn: callable\n",
        "    :returns: None\n",
        "    \"\"\"\n",
        "    model.train()\n",
        "    optimizer = torch.optim.Adam(model.parameters(), lr=eta)\n",
        "    losses = []\n",
        "\n",
        "    for epoch in (p := tqdm(range(epoch))):\n",
        "        losses.append(0)\n",
        "        for idx, (input, labels) in enumerate(data_loader):\n",
        "            p.set_description(f\"Loss in epoch {epoch}({idx}): {losses[-1] / (idx+1) if losses else 0}\")\n",
        "            optimizer.zero_grad()\n",
        "            outputs = model(input.to(device))\n",
        "            loss = loss_fn(outputs,labels.to(device))\n",
        "            loss.backward()\n",
        "            losses[-1] += float(loss.to(\"cpu\"))\n",
        "            optimizer.step()\n",
        "\n",
        "        p.set_description(f\"Loss in epoch {epoch}: {losses[-1]}\")\n",
        "\n",
        "    plt.plot(losses)\n",
        "    plt.title(\"Loss / epoch\")\n"
      ],
      "metadata": {
        "id": "XXQTWJqZriwv"
      },
      "execution_count": null,
      "outputs": []
    },
    {
      "cell_type": "markdown",
      "source": [
        "**Train The Model**"
      ],
      "metadata": {
        "id": "lXXviPger3Ya"
      }
    },
    {
      "cell_type": "code",
      "source": [
        "device = \"cuda\"\n",
        "cnn = CNN().to(device)\n",
        "\n",
        "train_model(cnn, train_loader, device)"
      ],
      "metadata": {
        "colab": {
          "base_uri": "https://localhost:8080/",
          "height": 469
        },
        "id": "-NBgXdK3r54W",
        "outputId": "e08a05ea-e4df-4fd7-d17c-46eedde4dc6d"
      },
      "execution_count": null,
      "outputs": [
        {
          "output_type": "stream",
          "name": "stderr",
          "text": [
            "Loss in epoch 4: 227.14639446139336: 100%|██████████| 5/5 [01:54<00:00, 23.00s/it]\n"
          ]
        },
        {
          "output_type": "display_data",
          "data": {
            "text/plain": [
              "<Figure size 640x480 with 1 Axes>"
            ],
            "image/png": "[encoded data removed]"
          },
          "metadata": {}
        }
      ]
    },
    {
      "cell_type": "markdown",
      "source": [
        "**Test The Model**"
      ],
      "metadata": {
        "id": "5J9aAtvFr9Yw"
      }
    },
    {
      "cell_type": "code",
      "source": [
        "#test function\n",
        "def test_model(model: torch.nn,\n",
        "               data_loader,\n",
        "               device,\n",
        "               loss_fn = nn.CrossEntropyLoss()\n",
        "               ):\n",
        "    \"\"\"\"\"\"\n",
        "    model.eval()\n",
        "    test_loss = 0\n",
        "    correct = 0\n",
        "    with torch.no_grad():\n",
        "        for data, target in data_loader:\n",
        "            data, target = data.to(device), target.to(device)\n",
        "            output = model(data)\n",
        "            test_loss += loss_fn(output, target).item()  # sum up batch loss\n",
        "            pred = output.argmax(dim=1, keepdim=True)  # get the index of the max log-probability\n",
        "            correct += pred.eq(target.view_as(pred)).sum().item()\n",
        "\n",
        "    test_loss /= len(data_loader.dataset)\n",
        "\n",
        "    print(\"\\nTest set: Average loss: {:.4f}, Accuracy: {}/{} ({:.0f}%)\\n\".format(\n",
        "        test_loss, correct, len(data_loader.dataset),\n",
        "        100. * correct / len(data_loader.dataset)))\n",
        "\n",
        "test_model(cnn, test_loader, device)"
      ],
      "metadata": {
        "id": "P0PVEc4ssBYK",
        "colab": {
          "base_uri": "https://localhost:8080/"
        },
        "outputId": "04bb51ff-7436-4ce0-c036-eef9266246c5"
      },
      "execution_count": null,
      "outputs": [
        {
          "output_type": "stream",
          "name": "stdout",
          "text": [
            "\n",
            "Test set: Average loss: 0.0050, Accuracy: 7811/10000 (78%)\n",
            "\n"
          ]
        }
      ]
    },
    {
      "cell_type": "markdown",
      "source": [
        "**Main effort put to achieve the targeted error rate**\n",
        "\n",
        "---\n",
        "\n",
        "To achieve the targeted error rate, the main efforts were focused on adjusting the convolutional architecture. This consisted of experimenting with the number and order of layers, adjusting the input and output sizes of convolution layers, tuning dropout rates, and changing the placement and sizes of pooling and dropout layers."
      ],
      "metadata": {
        "id": "5KPzstBWMv6q"
      }
    }
  ]
}